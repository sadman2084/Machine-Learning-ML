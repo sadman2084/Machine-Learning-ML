{
 "cells": [
  {
   "cell_type": "code",
   "execution_count": null,
   "id": "fa8a83cc",
   "metadata": {},
   "outputs": [
    {
     "data": {
      "text/html": [
       "\n",
       "        <iframe\n",
       "            width=\"800\"\n",
       "            height=\"600\"\n",
       "            src=\"http://127.0.0.1:5000/\"\n",
       "            frameborder=\"0\"\n",
       "            allowfullscreen\n",
       "            \n",
       "        ></iframe>\n",
       "        "
      ],
      "text/plain": [
       "<IPython.lib.display.IFrame at 0x1edfa655b50>"
      ]
     },
     "metadata": {},
     "output_type": "display_data"
    },
    {
     "name": "stdout",
     "output_type": "stream",
     "text": [
      " * Serving Flask app '__main__'\n",
      " * Debug mode: off\n"
     ]
    },
    {
     "name": "stderr",
     "output_type": "stream",
     "text": [
      "WARNING: This is a development server. Do not use it in a production deployment. Use a production WSGI server instead.\n",
      " * Running on http://127.0.0.1:5000\n",
      "Press CTRL+C to quit\n"
     ]
    }
   ],
   "source": [
    "from flask import Flask, render_template, request\n",
    "import pandas as pd\n",
    "from IPython.display import display, IFrame\n",
    "import threading\n",
    "\n",
    "app = Flask(__name__)\n",
    "\n",
    "\n",
    "df = pd.read_csv('realistic_pc_builds_with_price.csv')\n",
    "\n",
    "@app.route('/')\n",
    "def index():\n",
    "    return render_template('index.html')\n",
    "\n",
    "@app.route('/recommend', methods=['POST'])\n",
    "def recommend():\n",
    "    cpu = request.form.get('cpu')  \n",
    "    filtered_data = df[df['CPU'].str.contains(cpu, case=False)]\n",
    "    recommendations = filtered_data[['CPU', 'RAM', 'SSD', 'Motherboard', 'GPU', 'PSU', 'Use_Case', 'Estimated_Price_BDT']]\n",
    "    return render_template('index.html', cpu=cpu, recommendations=recommendations.to_html(classes='table table-striped'))\n",
    "\n",
    "\n",
    "def run_app():\n",
    "    app.run(debug=False, use_reloader=False)\n",
    "\n",
    "thread = threading.Thread(target=run_app)\n",
    "thread.start()\n",
    "\n",
    "display(IFrame('http://127.0.0.1:5000/', width=800, height=600))\n"
   ]
  },
  {
   "cell_type": "code",
   "execution_count": null,
   "id": "1b8629d1",
   "metadata": {},
   "outputs": [],
   "source": []
  }
 ],
 "metadata": {
  "kernelspec": {
   "display_name": "myenv",
   "language": "python",
   "name": "python3"
  },
  "language_info": {
   "codemirror_mode": {
    "name": "ipython",
    "version": 3
   },
   "file_extension": ".py",
   "mimetype": "text/x-python",
   "name": "python",
   "nbconvert_exporter": "python",
   "pygments_lexer": "ipython3",
   "version": "3.12.9"
  }
 },
 "nbformat": 4,
 "nbformat_minor": 5
}
